{
 "cells": [
  {
   "cell_type": "markdown",
   "id": "7196054f",
   "metadata": {},
   "source": [
    "# Working with APIs"
   ]
  },
  {
   "cell_type": "markdown",
   "id": "0547b71e",
   "metadata": {},
   "source": [
    "API stands for Application programming interface<br>\n",
    "APIs are a way for applications to talk to eachother<br>\n",
    "In python we use the requests package to handle the connection<br>\n",
    "<small><strong>Note: It is requests with an s not request(this is a different package)</strong></small><br>\n",
    "Most API's communicate with data in the form of JSON<br>\n",
    "JSON stands for JavaScript Object Notation"
   ]
  },
  {
   "attachments": {},
   "cell_type": "markdown",
   "id": "1e486af1",
   "metadata": {},
   "source": [
    "### importing requests module"
   ]
  },
  {
   "cell_type": "code",
   "execution_count": 3,
   "id": "4db9d154",
   "metadata": {},
   "outputs": [],
   "source": [
    "import requests"
   ]
  },
  {
   "cell_type": "markdown",
   "id": "e8c2ce51",
   "metadata": {},
   "source": [
    "We will be connecting to the Ergast F1 Racer API today:\n",
    "http://ergast.com/mrd/\n",
    "\n",
    "to view JSON data nicely in the Chrome browser install the extension JSONview"
   ]
  },
  {
   "cell_type": "code",
   "execution_count": 9,
   "id": "52c440c6",
   "metadata": {},
   "outputs": [],
   "source": [
    "# Make sure to attach extension .json at the end of url\n",
    "url = 'http://ergast.com/api/f1/2008/5/driverStandings.json'"
   ]
  },
  {
   "attachments": {},
   "cell_type": "markdown",
   "id": "dfbbc95e",
   "metadata": {},
   "source": [
    "### using the request package to access data from api/url"
   ]
  },
  {
   "cell_type": "code",
   "execution_count": 10,
   "id": "f60c1b4a",
   "metadata": {},
   "outputs": [],
   "source": [
    "response = requests.get(url)"
   ]
  },
  {
   "attachments": {},
   "cell_type": "markdown",
   "id": "0d7503f9",
   "metadata": {},
   "source": [
    "### checking and making sure we got a successful response from our API\n",
    "#### status codes: 200 = ok/successful, 400 = bad/unsuccessful"
   ]
  },
  {
   "cell_type": "code",
   "execution_count": 11,
   "id": "7b63a204",
   "metadata": {},
   "outputs": [
    {
     "data": {
      "text/plain": [
       "True"
      ]
     },
     "execution_count": 11,
     "metadata": {},
     "output_type": "execute_result"
    }
   ],
   "source": [
    "response.status_code\n",
    "response.ok"
   ]
  },
  {
   "attachments": {},
   "cell_type": "markdown",
   "id": "9d869626",
   "metadata": {},
   "source": [
    "### view the response as a JSON with .json()"
   ]
  },
  {
   "cell_type": "code",
   "execution_count": 12,
   "id": "ed4d3256",
   "metadata": {},
   "outputs": [
    {
     "data": {
      "text/plain": [
       "dict"
      ]
     },
     "execution_count": 12,
     "metadata": {},
     "output_type": "execute_result"
    }
   ],
   "source": [
    "response.json()\n",
    "type(response.json())"
   ]
  },
  {
   "attachments": {},
   "cell_type": "markdown",
   "id": "eb626cd5",
   "metadata": {},
   "source": [
    "### Get the Driver Standings Data from JSON"
   ]
  },
  {
   "cell_type": "code",
   "execution_count": 13,
   "id": "92e6cd2c",
   "metadata": {},
   "outputs": [],
   "source": [
    "driver_standings_data = response.json()['MRData']['StandingsTable']['StandingsLists'][0]['DriverStandings']"
   ]
  },
  {
   "attachments": {},
   "cell_type": "markdown",
   "id": "e2c9acc0",
   "metadata": {},
   "source": [
    "### Use a for loop to display all driver full names"
   ]
  },
  {
   "cell_type": "code",
   "execution_count": 14,
   "id": "f074dfcf",
   "metadata": {},
   "outputs": [
    {
     "name": "stdout",
     "output_type": "stream",
     "text": [
      "Kimi Räikkönen\n",
      "Felipe Massa\n",
      "Lewis Hamilton\n",
      "Robert Kubica\n",
      "Nick Heidfeld\n",
      "Heikki Kovalainen\n",
      "Mark Webber\n",
      "Fernando Alonso\n",
      "Jarno Trulli\n",
      "Nico Rosberg\n",
      "Kazuki Nakajima\n",
      "Jenson Button\n",
      "Sébastien Bourdais\n",
      "David Coulthard\n",
      "Timo Glock\n",
      "Giancarlo Fisichella\n",
      "Rubens Barrichello\n",
      "Nelson Piquet Jr.\n",
      "Takuma Sato\n",
      "Anthony Davidson\n",
      "Adrian Sutil\n",
      "Sebastian Vettel\n"
     ]
    }
   ],
   "source": [
    "for driver in driver_standings_data:\n",
    "    print(driver['Driver']['givenName'], driver['Driver']['familyName'])"
   ]
  },
  {
   "attachments": {},
   "cell_type": "markdown",
   "id": "20a801d4",
   "metadata": {},
   "source": [
    "### Create a function getting certain driver info (givenName, familyName, dateOfBirth, wins, team)\n"
   ]
  },
  {
   "cell_type": "code",
   "execution_count": 15,
   "id": "be46a950",
   "metadata": {},
   "outputs": [
    {
     "name": "stdout",
     "output_type": "stream",
     "text": [
      "[{'Kimi Räikkönen': {'DOB': '1979-10-17', 'wins': '2', 'team': 'Ferrari'}}, {'Felipe Massa': {'DOB': '1981-04-25', 'wins': '2', 'team': 'Ferrari'}}, {'Lewis Hamilton': {'DOB': '1985-01-07', 'wins': '1', 'team': 'McLaren'}}, {'Robert Kubica': {'DOB': '1984-12-07', 'wins': '0', 'team': 'BMW Sauber'}}, {'Nick Heidfeld': {'DOB': '1977-05-10', 'wins': '0', 'team': 'BMW Sauber'}}, {'Heikki Kovalainen': {'DOB': '1981-10-19', 'wins': '0', 'team': 'McLaren'}}, {'Mark Webber': {'DOB': '1976-08-27', 'wins': '0', 'team': 'Red Bull'}}, {'Fernando Alonso': {'DOB': '1981-07-29', 'wins': '0', 'team': 'Renault'}}, {'Jarno Trulli': {'DOB': '1974-07-13', 'wins': '0', 'team': 'Toyota'}}, {'Nico Rosberg': {'DOB': '1985-06-27', 'wins': '0', 'team': 'Williams'}}, {'Kazuki Nakajima': {'DOB': '1985-01-11', 'wins': '0', 'team': 'Williams'}}, {'Jenson Button': {'DOB': '1980-01-19', 'wins': '0', 'team': 'Honda'}}, {'Sébastien Bourdais': {'DOB': '1979-02-28', 'wins': '0', 'team': 'Toro Rosso'}}, {'David Coulthard': {'DOB': '1971-03-27', 'wins': '0', 'team': 'Red Bull'}}, {'Timo Glock': {'DOB': '1982-03-18', 'wins': '0', 'team': 'Toyota'}}, {'Giancarlo Fisichella': {'DOB': '1973-01-14', 'wins': '0', 'team': 'Force India'}}, {'Rubens Barrichello': {'DOB': '1972-05-23', 'wins': '0', 'team': 'Honda'}}, {'Nelson Piquet Jr.': {'DOB': '1985-07-25', 'wins': '0', 'team': 'Renault'}}, {'Takuma Sato': {'DOB': '1977-01-28', 'wins': '0', 'team': 'Super Aguri'}}, {'Anthony Davidson': {'DOB': '1979-04-18', 'wins': '0', 'team': 'Super Aguri'}}, {'Adrian Sutil': {'DOB': '1983-01-11', 'wins': '0', 'team': 'Force India'}}, {'Sebastian Vettel': {'DOB': '1987-07-03', 'wins': '0', 'team': 'Toro Rosso'}}]\n"
     ]
    }
   ],
   "source": [
    "def get_driver_info(data):\n",
    "    new_driver_data = []\n",
    "    for driver in data:\n",
    "        driver_dict = {}\n",
    "        full_name = f'{driver[\"Driver\"][\"givenName\"]} {driver[\"Driver\"][\"familyName\"]}'\n",
    "        driver_dict[full_name] = {\n",
    "            'DOB': driver['Driver']['dateOfBirth'],\n",
    "            'wins': driver['wins'],\n",
    "            'team': driver['Constructors'][0]['name']\n",
    "        }\n",
    "        new_driver_data.append(driver_dict)\n",
    "    return new_driver_data\n",
    "\n",
    "print(get_driver_info(driver_standings_data))"
   ]
  },
  {
   "attachments": {},
   "cell_type": "markdown",
   "id": "4804a219",
   "metadata": {},
   "source": [
    "### Making a more flexible function to handle different years and rounds"
   ]
  },
  {
   "cell_type": "code",
   "execution_count": 4,
   "id": "3740c752",
   "metadata": {},
   "outputs": [],
   "source": [
    "def get_driver_info_year_rnd(year, rnd):\n",
    "    url = f'http://ergast.com/api/f1/{year}/{rnd}/driverStandings.json'\n",
    "    response = requests.get(url)\n",
    "    if response.ok:\n",
    "        standings_data = response.json()['MRData']['StandingsTable']['StandingsLists'][0]['DriverStandings']\n",
    "        return get_driver_info(standings_data)\n",
    "    else:\n",
    "        'That year or round does not exist.'\n",
    "\n",
    "# get_driver_info_year_rnd(2021, 5)\n"
   ]
  },
  {
   "cell_type": "markdown",
   "id": "6d546014",
   "metadata": {},
   "source": [
    "# <strong>Homework</strong>\n",
    "check out this Pokemon API https://pokeapi.co/\n",
    "Use the requests package to connect to this API and get and store data for 5 different pokemon.\n",
    "Get the pokemons: name, atleast one ability's name, base_experience, and the URL for its sprite (an image that shows up on screen) for the 'front_shiny', attack base_state, hp base_stat, defense base_stat"
   ]
  },
  {
   "cell_type": "code",
   "execution_count": 41,
   "id": "5a9081e3",
   "metadata": {},
   "outputs": [
    {
     "name": "stdout",
     "output_type": "stream",
     "text": [
      "{'name': 'gholdengo', 'first_move': 'thunder-punch', 'base_experience': None, 'sprite_url': None, 'base_attack': 60, 'base_hp': 87, 'base_defense': 95}\n"
     ]
    }
   ],
   "source": [
    "import requests\n",
    "def catch_pokemon(pokemon):\n",
    "    caught_pokemon = {}\n",
    "    url = f'https://pokeapi.co/api/v2/pokemon/{pokemon}'\n",
    "    response = requests.get(url)\n",
    "    if response.ok:\n",
    "        caught_pokemon['name'] = response.json()['name']\n",
    "        caught_pokemon['first_move'] = response.json()['moves'][0]['move']['name']\n",
    "        caught_pokemon['base_experience'] = response.json()['base_experience']\n",
    "        caught_pokemon['sprite_url'] = response.json()['sprites']['front_shiny']\n",
    "        caught_pokemon['base_attack'] = response.json()['stats'][1]['base_stat']\n",
    "        caught_pokemon['base_hp'] = response.json()['stats'][0]['base_stat']\n",
    "        caught_pokemon['base_defense'] = response.json()['stats'][2]['base_stat']\n",
    "    else:\n",
    "        \"pokemon doesn't exist\"\n",
    "    return caught_pokemon\n",
    "\n",
    "print(catch_pokemon(1000))"
   ]
  }
 ],
 "metadata": {
  "kernelspec": {
   "display_name": "Python 3",
   "language": "python",
   "name": "python3"
  },
  "language_info": {
   "codemirror_mode": {
    "name": "ipython",
    "version": 3
   },
   "file_extension": ".py",
   "mimetype": "text/x-python",
   "name": "python",
   "nbconvert_exporter": "python",
   "pygments_lexer": "ipython3",
   "version": "3.11.1"
  },
  "vscode": {
   "interpreter": {
    "hash": "458dd1d06817a72759ca62d766d5a1c58019d69edba750c2eb07d80bb7630974"
   }
  }
 },
 "nbformat": 4,
 "nbformat_minor": 5
}
